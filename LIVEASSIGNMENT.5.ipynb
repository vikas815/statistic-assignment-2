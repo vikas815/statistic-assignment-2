{
 "cells": [
  {
   "cell_type": "code",
   "execution_count": null,
   "id": "f90247b3-c443-42f4-b311-695d25128ab1",
   "metadata": {},
   "outputs": [],
   "source": [
    "1. Explain the Properties of the F-distribution\n",
    "ANSWER:\n"
   ]
  },
  {
   "cell_type": "markdown",
   "id": "0ed22256-c65f-492d-8e02-a8068d7ef819",
   "metadata": {},
   "source": [
    "### Properties of the F-Distribution\n",
    "\n",
    "1. The F-distribution is a continuous probability distribution.\n",
    "2. It is positively skewed, meaning it has a long right tail.\n",
    "3. The shape of the F-distribution depends on the degrees of freedom of the numerator and the denominator.\n",
    "4. The mean of the F-distribution is approximately equal to 1 if both degrees of freedom are sufficiently large.\n",
    "5. It is used in comparing variances and for the analysis of variance (ANOVA) tests.\n"
   ]
  },
  {
   "cell_type": "code",
   "execution_count": null,
   "id": "9afaef49-ffc0-4d52-ae7f-f967289a3ebf",
   "metadata": {},
   "outputs": [],
   "source": [
    "2. Statistical Tests Using the F-Distribution\n",
    "ANSWER:\n"
   ]
  },
  {
   "cell_type": "markdown",
   "id": "514f741e-33e7-4a39-ae3e-68b86f677a3e",
   "metadata": {},
   "source": [
    "### Statistical Tests Using the F-Distribution\n",
    "\n",
    "The F-distribution is primarily used in:\n",
    "- **ANOVA (Analysis of Variance)**: To test if there are any statistically significant differences between group means.\n",
    "- **F-Test for Equality of Variances**: To compare the variances of two populations.\n",
    "\n",
    "It is appropriate because the F-statistic is a ratio of variances, which aligns with the goals of these tests.\n"
   ]
  },
  {
   "cell_type": "code",
   "execution_count": null,
   "id": "1f6746f7-5bad-4402-a71d-3f7437c8807e",
   "metadata": {},
   "outputs": [],
   "source": [
    "3. Assumptions for Conducting an F-Test\n",
    "ANSWER:\n"
   ]
  },
  {
   "cell_type": "markdown",
   "id": "ebaeaa16-d793-406c-8d32-aee85c316310",
   "metadata": {},
   "source": [
    "### Assumptions for Conducting an F-Test\n",
    "\n",
    "1. The populations from which the samples are drawn must be normally distributed.\n",
    "2. The samples should be independent of each other.\n",
    "3. The variances being compared should come from populations that are normally distributed.\n"
   ]
  },
  {
   "cell_type": "code",
   "execution_count": null,
   "id": "721a5c43-f5bd-42ec-b9d8-274639b2af09",
   "metadata": {},
   "outputs": [],
   "source": [
    "4. Purpose of ANOVA and Difference from t-Test\n",
    "ANSWER:\n"
   ]
  },
  {
   "cell_type": "markdown",
   "id": "b5775fc5-594a-49dc-b63e-08b470de4987",
   "metadata": {},
   "source": [
    "### Purpose of ANOVA and Difference from t-Test\n",
    "\n",
    "- **ANOVA** is used to test if there are differences among three or more group means.\n",
    "- **t-test** compares the means between two groups.\n",
    "- **Difference**: ANOVA can handle more than two groups simultaneously, reducing the risk of Type I error from multiple t-tests.\n"
   ]
  },
  {
   "cell_type": "code",
   "execution_count": null,
   "id": "9ffe4232-93fc-4e97-8740-0219d5e83122",
   "metadata": {},
   "outputs": [],
   "source": [
    "5. When to Use One-Way ANOVA over Multiple t-Tests\n",
    "ANSWERS:\n"
   ]
  },
  {
   "cell_type": "markdown",
   "id": "fb7fcb0c-689c-4f13-8029-713f0a6b537b",
   "metadata": {},
   "source": [
    "### When to Use One-Way ANOVA over Multiple t-Tests\n",
    "\n",
    "One-way ANOVA should be used when comparing more than two groups to avoid inflating the Type I error rate that occurs when using multiple t-tests.\n"
   ]
  },
  {
   "cell_type": "code",
   "execution_count": null,
   "id": "7e15ba01-a821-4240-989d-bd80dddbf947",
   "metadata": {},
   "outputs": [],
   "source": [
    "6. Partitioning of Variance in ANOVA\n",
    "ANSWERS:\n"
   ]
  },
  {
   "cell_type": "markdown",
   "id": "22acbe95-8fe7-40f7-b32b-c65465dbd792",
   "metadata": {},
   "source": [
    "### Partitioning of Variance in ANOVA\n",
    "\n",
    "ANOVA divides variance into:\n",
    "- **Between-group variance**: Variance due to differences between group means.\n",
    "- **Within-group variance**: Variance due to differences within each group.\n",
    "\n",
    "The F-statistic is calculated as the ratio of between-group variance to within-group variance.\n"
   ]
  },
  {
   "cell_type": "code",
   "execution_count": null,
   "id": "98a47f72-f257-4da3-a6a4-fe9fc8cd56cf",
   "metadata": {},
   "outputs": [],
   "source": [
    "7. Classical vs. Bayesian ANOVA\n",
    "ANSWER:"
   ]
  },
  {
   "cell_type": "markdown",
   "id": "fb74ab8c-ff6a-4778-83d7-e2b8ac978edf",
   "metadata": {},
   "source": [
    "### Classical vs. Bayesian ANOVA\r\n",
    "\r\n",
    "- **Classical (Frequentist) ANOVA** uses point estimates and assumes fixed values for parameters.\r\n",
    "- **Bayesian ANOVA** uses probability distributions for parameters and incorporates prior information.\r\n"
   ]
  },
  {
   "cell_type": "code",
   "execution_count": null,
   "id": "66be6114-5441-4961-b305-3d9cf2073c5c",
   "metadata": {},
   "outputs": [],
   "source": [
    "8. Perform an F-test to Compare Variances\n",
    "ANSWERS:\n"
   ]
  },
  {
   "cell_type": "markdown",
   "id": "3914809b-ad8c-4c7d-a4ae-e7df73b45aa1",
   "metadata": {},
   "source": [
    "import scipy.stats as stats\r\n",
    "\r\n",
    "# Data for professions\r\n",
    "profession_a = [48, 52, 55, 60, 62]\r\n",
    "profession_b = [45, 50, 55, 52, 47]\r\n",
    "\r\n",
    "# Calculate F-statistic and p-value\r\n",
    "f_stat, p_value = stats.f_oneway(profession_a, profession_b)\r\n",
    "f_stat,\n",
    "### Interpretation of F-Test Result\r\n",
    "\r\n",
    "If the p-value is less than the significance level (e.g., 0.05), we reject the null hypothesis, concluding that the variances are significantly different.\r\n",
    " p_value\r\n"
   ]
  },
  {
   "cell_type": "code",
   "execution_count": null,
   "id": "04df3b7a-acc0-46cc-ae8d-34a0e9bf5e8a",
   "metadata": {},
   "outputs": [],
   "source": [
    "9. Conduct a One-Way ANOVA\n",
    "ANSWERS:\n"
   ]
  },
  {
   "cell_type": "markdown",
   "id": "2b2cb4f0-9416-42fb-928c-0e91a743fb84",
   "metadata": {},
   "source": [
    "# Data for regions\r\n",
    "region_a = [160, 162, 165, 158, 164]\r\n",
    "region_b = [172, 175, 170, 168, 174]\r\n",
    "region_c = [180, 182, 179, 185, 183]\r\n",
    "\r\n",
    "# Perform one-way ANOVA\r\n",
    "f_stat, p_value = stats.f_oneway(region_a, region_b, region_c)\r\n",
    "f_stat, \n",
    "### Interpretation of One-Way ANOVA Result\r\n",
    "\r\n",
    "If the p-value is less than the significance level, we reject the null hypothesis, concluding that there is a statistically significant difference in means between the groups.\r\n",
    "p_value\r\n"
   ]
  }
 ],
 "metadata": {
  "kernelspec": {
   "display_name": "Python 3 (ipykernel)",
   "language": "python",
   "name": "python3"
  },
  "language_info": {
   "codemirror_mode": {
    "name": "ipython",
    "version": 3
   },
   "file_extension": ".py",
   "mimetype": "text/x-python",
   "name": "python",
   "nbconvert_exporter": "python",
   "pygments_lexer": "ipython3",
   "version": "3.11.7"
  }
 },
 "nbformat": 4,
 "nbformat_minor": 5
}
